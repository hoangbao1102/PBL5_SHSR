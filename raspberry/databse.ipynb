{
 "cells": [
  {
   "cell_type": "code",
   "execution_count": 1,
   "metadata": {},
   "outputs": [
    {
     "name": "stderr",
     "output_type": "stream",
     "text": [
      "C:\\Users\\ACER\\AppData\\Local\\Packages\\PythonSoftwareFoundation.Python.3.10_qbz5n2kfra8p0\\LocalCache\\local-packages\\Python310\\site-packages\\pydub\\utils.py:170: RuntimeWarning: Couldn't find ffmpeg or avconv - defaulting to ffmpeg, but may not work\n",
      "  warn(\"Couldn't find ffmpeg or avconv - defaulting to ffmpeg, but may not work\", RuntimeWarning)\n"
     ]
    }
   ],
   "source": [
    "import firebase_admin\n",
    "from firebase_admin import credentials\n",
    "from firebase_admin import db\n",
    "from firebase_admin import storage\n",
    "import hmm_predict"
   ]
  },
  {
   "cell_type": "code",
   "execution_count": 2,
   "metadata": {},
   "outputs": [],
   "source": [
    "cred = credentials.Certificate(\"pbl5shsr-firebase-adminsdk-u4jih-5de6689dfa.json\")"
   ]
  },
  {
   "cell_type": "code",
   "execution_count": 3,
   "metadata": {},
   "outputs": [
    {
     "data": {
      "text/plain": [
       "<firebase_admin.App at 0x29f374eec80>"
      ]
     },
     "execution_count": 3,
     "metadata": {},
     "output_type": "execute_result"
    }
   ],
   "source": [
    "firebase_admin.initialize_app(cred, {\n",
    "    'databaseURL': 'https://pbl5shsr-default-rtdb.asia-southeast1.firebasedatabase.app',\n",
    "    'storageBucket': 'gs://pbl5shsr.appspot.com'\n",
    "})\n"
   ]
  },
  {
   "cell_type": "code",
   "execution_count": 4,
   "metadata": {},
   "outputs": [
    {
     "name": "stdout",
     "output_type": "stream",
     "text": [
      "{'device1': {'name': 'Light', 'status': 0}, 'device2': {'name': 'Door', 'status': 1}, 'device3': {'name': 'Air conditioner', 'status': 1}, 'device4': {'name': 'Fan', 'speed': 1, 'status': 2}}\n"
     ]
    }
   ],
   "source": [
    "# Lấy reference đến node \"devices\"\n",
    "devices_ref = db.reference('devices')\n",
    "\n",
    "# Lấy dữ liệu từ node \"devices\"\n",
    "devices_data = devices_ref.get()\n",
    "\n",
    "# In ra dữ liệu\n",
    "print(devices_data)"
   ]
  },
  {
   "cell_type": "code",
   "execution_count": 5,
   "metadata": {},
   "outputs": [],
   "source": [
    "trangthai_ref = devices_ref.child('device1')\n",
    "\n",
    "# Lấy giá trị của trường 'trangthai'\n",
    "trangthai_val = trangthai_ref.get()"
   ]
  },
  {
   "cell_type": "code",
   "execution_count": 6,
   "metadata": {},
   "outputs": [
    {
     "name": "stdout",
     "output_type": "stream",
     "text": [
      "{'name': 'Light', 'status': 0}\n"
     ]
    }
   ],
   "source": [
    "print(trangthai_val)"
   ]
  },
  {
   "cell_type": "code",
   "execution_count": 7,
   "metadata": {},
   "outputs": [
    {
     "name": "stdout",
     "output_type": "stream",
     "text": [
      "Light\n"
     ]
    }
   ],
   "source": [
    "status_ref = trangthai_ref.child('name')\n",
    "\n",
    "# Lấy giá trị của trường 'trangthai'\n",
    "status_val = status_ref.get()\n",
    "print(status_val)"
   ]
  },
  {
   "cell_type": "code",
   "execution_count": 11,
   "metadata": {},
   "outputs": [],
   "source": [
    "# def on_data_change(event):\n",
    "#     print('Data changed:', event.data)\n",
    "\n",
    "# devices_ref.child('device1').child('status').listen(on_data_change)\n",
    "\n",
    "# # Lặp vô hạn để tiếp tục lắng nghe sự thay đổi của Firebase Realtime Database\n",
    "# while True:\n",
    "#     pass"
   ]
  },
  {
   "cell_type": "code",
   "execution_count": 8,
   "metadata": {},
   "outputs": [],
   "source": [
    "audios_ref = db.reference('audio')"
   ]
  },
  {
   "cell_type": "code",
   "execution_count": 9,
   "metadata": {},
   "outputs": [],
   "source": [
    "bucket = storage.bucket()"
   ]
  },
  {
   "cell_type": "code",
   "execution_count": 10,
   "metadata": {},
   "outputs": [],
   "source": [
    "file_ref = audios_ref.child('file_url')"
   ]
  },
  {
   "cell_type": "code",
   "execution_count": 11,
   "metadata": {},
   "outputs": [
    {
     "name": "stdout",
     "output_type": "stream",
     "text": [
      "https://firebasestorage.googleapis.com/v0/b/pbl5shsr.appspot.com/o/audio%2FrecordingAudio.wav?alt=media&token=d878bf18-b7d0-42e8-bf44-487b3a0cdf46\n"
     ]
    }
   ],
   "source": [
    "file_urllink=file_ref.get()\n",
    "print(file_urllink)"
   ]
  },
  {
   "cell_type": "code",
   "execution_count": 12,
   "metadata": {},
   "outputs": [],
   "source": [
    "import requests"
   ]
  },
  {
   "cell_type": "code",
   "execution_count": 13,
   "metadata": {},
   "outputs": [],
   "source": [
    "response = requests.get(file_urllink)\n",
    "\n",
    "with open(\"new_audio.wav\", \"wb\") as f:\n",
    "    f.write(response.content)"
   ]
  },
  {
   "cell_type": "code",
   "execution_count": 15,
   "metadata": {},
   "outputs": [
    {
     "name": "stdout",
     "output_type": "stream",
     "text": [
      "Data changed: https://firebasestorage.googleapis.com/v0/b/pbl5shsr.appspot.com/o/audio%2FrecordingAudio.wav?alt=media&token=fab72f39-1210-4da2-8bd4-3a8a9942b9c2\n",
      "https://firebasestorage.googleapis.com/v0/b/pbl5shsr.appspot.com/o/audio%2FrecordingAudio.wav?alt=media&token=fab72f39-1210-4da2-8bd4-3a8a9942b9c2\n"
     ]
    },
    {
     "ename": "KeyboardInterrupt",
     "evalue": "",
     "output_type": "error",
     "traceback": [
      "\u001b[1;31m---------------------------------------------------------------------------\u001b[0m",
      "\u001b[1;31mKeyboardInterrupt\u001b[0m                         Traceback (most recent call last)",
      "Cell \u001b[1;32mIn[15], line 23\u001b[0m\n\u001b[0;32m     20\u001b[0m audios_ref\u001b[39m.\u001b[39mchild(\u001b[39m'\u001b[39m\u001b[39mfile_url\u001b[39m\u001b[39m'\u001b[39m)\u001b[39m.\u001b[39mlisten(on_data_change)\n\u001b[0;32m     22\u001b[0m \u001b[39m# Lặp vô hạn để tiếp tục lắng nghe sự thay đổi của Firebase Realtime Database\u001b[39;00m\n\u001b[1;32m---> 23\u001b[0m \u001b[39mwhile\u001b[39;00m \u001b[39mTrue\u001b[39;00m:\n\u001b[0;32m     24\u001b[0m     \u001b[39mpass\u001b[39;00m\n",
      "\u001b[1;31mKeyboardInterrupt\u001b[0m: "
     ]
    }
   ],
   "source": [
    "from pydub.playback import play\n",
    "from pydub import AudioSegment\n",
    "def on_data_change(event):\n",
    "    print('Data changed:', event.data)\n",
    "    file_urllink=file_ref.get()\n",
    "    print(file_urllink)\n",
    "    response = requests.get(file_urllink)\n",
    "\n",
    "    with open(\"new_audio.wav\", \"wb\") as f:\n",
    "     f.write(response.content)\n",
    "    \n",
    "    from pydub.playback import play\n",
    "\n",
    "    # Load file\n",
    "    sound = AudioSegment.from_wav('new_audio.wav')\n",
    "\n",
    "    # Play sound\n",
    "    play(sound)\n",
    "    hmm_predict.predict()\n",
    "audios_ref.child('file_url').listen(on_data_change)\n",
    "\n",
    "# Lặp vô hạn để tiếp tục lắng nghe sự thay đổi của Firebase Realtime Database\n",
    "while True:\n",
    "    pass"
   ]
  },
  {
   "cell_type": "code",
   "execution_count": 16,
   "metadata": {},
   "outputs": [
    {
     "name": "stdout",
     "output_type": "stream",
     "text": [
      "reading audio file...\n",
      "audio file read!\n",
      "1/1 [==============================] - 0s 234ms/step\n",
      "Predicted label: mocua\n"
     ]
    },
    {
     "data": {
      "text/plain": [
       "'mocua'"
      ]
     },
     "execution_count": 16,
     "metadata": {},
     "output_type": "execute_result"
    }
   ],
   "source": [
    "import modelcnn\n",
    "modelcnn.predict()"
   ]
  },
  {
   "cell_type": "code",
   "execution_count": 17,
   "metadata": {},
   "outputs": [
    {
     "name": "stdout",
     "output_type": "stream",
     "text": [
      "scores [-10198.336700661028, -10401.008087886488, -9919.609321784483, -10263.372814470415, -9376.144020278041, -9869.566944943583, -10018.951949124608, -10529.432671429771, -10220.548113351097, -9951.666303327767]\n",
      "mocua\n",
      "scores [-6623.490692895, -6623.060732714532, -6310.5548945313585, -6491.131803713678, -5717.974781378913, -6147.5981906197, -6359.204217204515, -6521.123530709681, -6408.600232143468, -6284.972480689755]\n",
      "mocua\n",
      "scores [-6640.397418256823, -6633.927319799147, -6324.610935778282, -6505.6468725561845, -5736.032612587694, -6164.115957229736, -6372.807630873362, -6539.677878705331, -6419.424978247214, -6299.40270831156]\n",
      "mocua\n"
     ]
    }
   ],
   "source": [
    "hmm_predict.predict()"
   ]
  },
  {
   "cell_type": "code",
   "execution_count": 22,
   "metadata": {},
   "outputs": [],
   "source": [
    "\n",
    "import pickle\n",
    "import wave\n",
    "\n",
    "import numpy as np\n",
    "import pyaudio\n",
    "from pydub import AudioSegment\n",
    "import module.preprocessing as preprocessing\n",
    "\n",
    "\n",
    "\n",
    "\n"
   ]
  },
  {
   "cell_type": "code",
   "execution_count": 35,
   "metadata": {},
   "outputs": [],
   "source": [
    "from pydub import AudioSegment\n",
    "\n",
    "\n",
    "\n",
    "\n",
    "\n",
    "from pydub.playback import play\n",
    "\n",
    "# Load file\n",
    "sound = AudioSegment.from_wav('new_audio.wav')\n",
    "\n",
    "# Play sound\n",
    "play(sound)\n"
   ]
  },
  {
   "cell_type": "code",
   "execution_count": 28,
   "metadata": {},
   "outputs": [],
   "source": [
    "\n",
    "class HMMRecognition:\n",
    "    def __init__(self):\n",
    "        self.model = {}\n",
    "\n",
    "        self.class_names = ['batden', 'tatden', 'batquat','tatquat','mocua','dongcua']\n",
    "        self.audio_format = 'wav'\n",
    "\n",
    "        self.record_path = 'module/temp/record.wav'\n",
    "        self.trimmed_path = 'module/temp/trimmed.wav'\n",
    "        self.model_path = 'module/models_train'\n",
    "\n",
    "        self.load_model()\n",
    "\n",
    "    @staticmethod\n",
    "    def detect_leading_silence(sound, silence_threshold=-42.0, chunk_size=10):\n",
    "        trim_ms = 0  # ms\n",
    "\n",
    "        assert chunk_size > 0  # to avoid infinite loop\n",
    "        while sound[trim_ms:trim_ms + chunk_size].dBFS < silence_threshold and trim_ms < len(sound):\n",
    "            trim_ms += chunk_size\n",
    "\n",
    "        return trim_ms\n",
    "    def load_model(self):\n",
    "            for key in self.class_names:\n",
    "                name = f\"{self.model_path}/model_{key}.pkl\"\n",
    "                with open(name, 'rb') as file:\n",
    "                    self.model[key] = pickle.load(file)\n",
    "    def predict(self, file_name=None):\n",
    "        if not file_name:\n",
    "            file_name = self.record_path\n",
    "\n",
    "        # Trim silence\n",
    "        sound = AudioSegment.from_file(file_name, format=self.audio_format)\n",
    "\n",
    "        start_trim = self.detect_leading_silence(sound)\n",
    "        end_trim = self.detect_leading_silence(sound.reverse())\n",
    "\n",
    "        duration = len(sound)\n",
    "\n",
    "        trimmed_sound = sound[start_trim:duration - end_trim]\n",
    "        trimmed_sound.export(self.trimmed_path, format=self.audio_format)\n",
    "\n",
    "        # Predict\n",
    "        record_mfcc = preprocessing.get_mfcc(self.trimmed_path)\n",
    "        scores = [self.model[cname].score(record_mfcc) for cname in self.class_names]\n",
    "        print('scores', scores)\n",
    "        predict_word = np.argmax(scores)\n",
    "        print(self.class_names[predict_word])\n",
    "        string = self.class_names[predict_word]\n",
    "        #update db\n",
    "        if \"quat\" in string:\n",
    "            refup = db.reference('devices/device4')\n",
    "            if \"tat\" in string:\n",
    "                refup.update({'status': '0'})\n",
    "            elif \"bat\" in string:\n",
    "                refup.update({'status': '1'})\n",
    "            else: \n",
    "                refup.update({'status': '2'})\n",
    "        elif \"cua\" in string:\n",
    "            refup = db.reference('devices/device2')\n",
    "            if \"tat\" in string:\n",
    "                refup.update({'status': '0'})\n",
    "            elif \"bat\" in string:\n",
    "                refup.update({'status': '1'})\n",
    "            else: \n",
    "                refup.update({'status': '1'})\n",
    "        elif \"den\" in string:\n",
    "            refup = db.reference('devices/device1')\n",
    "            if \"tat\" in string:\n",
    "                refup.update({'status': '0'})\n",
    "            elif \"bat\" in string:\n",
    "                refup.update({'status': '1'})\n",
    "            else: \n",
    "                refup.update({'status': '1'})\n",
    "        elif \"dieuhoa\" in string:\n",
    "            refup = db.reference('devices/device3')\n",
    "            if \"tat\" in string:\n",
    "                refup.update({'status': '0'})\n",
    "            elif \"bat\" in string:\n",
    "                refup.update({'status': '1'})\n",
    "            else: \n",
    "                refup.update({'status': '1'})    \n",
    "        else:\n",
    "            print('not found')\n",
    "    def record(self):\n",
    "        CHUNK = 1024\n",
    "        FORMAT = pyaudio.paInt16\n",
    "        CHANNELS = 1\n",
    "        RATE = 16000\n",
    "        RECORD_SECONDS = 6\n",
    "\n",
    "        p = pyaudio.PyAudio()\n",
    "\n",
    "        \n",
    "\n",
    "        frames = []\n",
    "\n",
    "        \n",
    "        print('reading audio file...')\n",
    "        with wave.open('audio.wav', 'rb') as wf:\n",
    "            for i in range(0, int(RATE / CHUNK * RECORD_SECONDS)):\n",
    "                data = wf.readframes(CHUNK)\n",
    "                frames.append(data)\n",
    "\n",
    "        \n",
    "\n",
    "        print('audio file read!')\n",
    "        \n",
    "        p.terminate()\n",
    "\n",
    "        wf = wave.open(self.record_path, 'wb')\n",
    "        wf.setnchannels(CHANNELS)\n",
    "        wf.setsampwidth(p.get_sample_size(FORMAT))\n",
    "        wf.setframerate(RATE)\n",
    "        wf.writeframes(b''.join(frames))\n",
    "        wf.close()"
   ]
  },
  {
   "cell_type": "code",
   "execution_count": 29,
   "metadata": {},
   "outputs": [
    {
     "name": "stdout",
     "output_type": "stream",
     "text": [
      "reading audio file...\n",
      "audio file read!\n",
      "scores [-6946.472328083157, -7093.413202709599, -6807.787174007189, -6665.23313428039, -7198.763181441223, -7027.707489786817]\n",
      "tatquat\n"
     ]
    },
    {
     "name": "stdout",
     "output_type": "stream",
     "text": [
      "Data changed: https://firebasestorage.googleapis.com/v0/b/pbl5shsr.appspot.com/o/audio%2FrecordingAudio.wav?alt=media&token=dbc5f40e-813f-4030-a1c0-0cf8576ab786\n",
      "Data changed: https://firebasestorage.googleapis.com/v0/b/pbl5shsr.appspot.com/o/audio%2FrecordingAudio.wav?alt=media&token=dbc5f40e-813f-4030-a1c0-0cf8576ab786\n",
      "Data changed: https://firebasestorage.googleapis.com/v0/b/pbl5shsr.appspot.com/o/audio%2FrecordingAudio.wav?alt=media&token=dbc5f40e-813f-4030-a1c0-0cf8576ab786\n",
      "https://firebasestorage.googleapis.com/v0/b/pbl5shsr.appspot.com/o/audio%2FrecordingAudio.wav?alt=media&token=dbc5f40e-813f-4030-a1c0-0cf8576ab786\n",
      "https://firebasestorage.googleapis.com/v0/b/pbl5shsr.appspot.com/o/audio%2FrecordingAudio.wav?alt=media&token=dbc5f40e-813f-4030-a1c0-0cf8576ab786\n",
      "https://firebasestorage.googleapis.com/v0/b/pbl5shsr.appspot.com/o/audio%2FrecordingAudio.wav?alt=media&token=dbc5f40e-813f-4030-a1c0-0cf8576ab786\n"
     ]
    }
   ],
   "source": [
    "hmm_reg = HMMRecognition()\n",
    "hmm_reg.record()\n",
    "hmm_reg.predict()"
   ]
  },
  {
   "cell_type": "code",
   "execution_count": null,
   "metadata": {},
   "outputs": [
    {
     "name": "stdout",
     "output_type": "stream",
     "text": [
      "Found\n"
     ]
    }
   ],
   "source": [
    "string = \"Helloworld zo\"\n",
    "if \"Hello\" in string:\n",
    "    print(\"Found\")\n",
    "else:\n",
    "    print(\"Not found\")"
   ]
  }
 ],
 "metadata": {
  "kernelspec": {
   "display_name": "Python 3",
   "language": "python",
   "name": "python3"
  },
  "language_info": {
   "codemirror_mode": {
    "name": "ipython",
    "version": 3
   },
   "file_extension": ".py",
   "mimetype": "text/x-python",
   "name": "python",
   "nbconvert_exporter": "python",
   "pygments_lexer": "ipython3",
   "version": "3.10.11"
  },
  "orig_nbformat": 4
 },
 "nbformat": 4,
 "nbformat_minor": 2
}
